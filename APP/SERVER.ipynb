{
  "nbformat": 4,
  "nbformat_minor": 0,
  "metadata": {
    "colab": {
      "provenance": [],
      "collapsed_sections": [
        "eG1G4eiiUOrw"
      ],
      "gpuType": "T4"
    },
    "kernelspec": {
      "name": "python3",
      "display_name": "Python 3"
    },
    "language_info": {
      "name": "python"
    },
    "accelerator": "GPU"
  },
  "cells": [
    {
      "cell_type": "code",
      "source": [
        "!pip install python-multipart\n",
        "!pip install pyngrok\n",
        "!pip install nest-asyncio\n",
        "!pip install uvicorn\n",
        "!pip install fastapi\n",
        "\n",
        "\n",
        "!git clone https://github.com/PhDSGilber/Segmentation_medical_images.git\n",
        "!pip install git+https://github.com/facebookresearch/segment-anything.git\n",
        "%cd /content/Segmentation_medical_images\n",
        "!wget \"https://dl.dropboxusercontent.com/scl/fi/9r90jmxqqu1jbsyxy6fr3/sam_vit_b_01ec64.pth?rlkey=to1ppb9n9l49gjyuqwywif6x9&dl=1\"\n",
        "!wget \"https://dl.dropboxusercontent.com/scl/fi/d8s4qd7fomld6nij9x0om/vit_DSB.pth?rlkey=y3hkw112mbd4yw2cmpyrk3fc1&dl=1\""
      ],
      "metadata": {
        "colab": {
          "base_uri": "https://localhost:8080/"
        },
        "id": "GqzprV0dnDkC",
        "outputId": "fbbdf236-cca2-4ddc-c019-5298f979f3b8"
      },
      "execution_count": 1,
      "outputs": [
        {
          "output_type": "stream",
          "name": "stdout",
          "text": [
            "Collecting python-multipart\n",
            "  Downloading python_multipart-0.0.6-py3-none-any.whl (45 kB)\n",
            "\u001b[?25l     \u001b[90m━━━━━━━━━━━━━━━━━━━━━━━━━━━━━━━━━━━━━━━━\u001b[0m \u001b[32m0.0/45.7 kB\u001b[0m \u001b[31m?\u001b[0m eta \u001b[36m-:--:--\u001b[0m\r\u001b[2K     \u001b[90m━━━━━━━━━━━━━━━━━━━━━━━━━━━━━━━━━━━━━━━━\u001b[0m \u001b[32m45.7/45.7 kB\u001b[0m \u001b[31m1.6 MB/s\u001b[0m eta \u001b[36m0:00:00\u001b[0m\n",
            "\u001b[?25hInstalling collected packages: python-multipart\n",
            "\u001b[31mERROR: pip's dependency resolver does not currently take into account all the packages that are installed. This behaviour is the source of the following dependency conflicts.\n",
            "lida 0.0.10 requires fastapi, which is not installed.\n",
            "lida 0.0.10 requires kaleido, which is not installed.\n",
            "lida 0.0.10 requires uvicorn, which is not installed.\u001b[0m\u001b[31m\n",
            "\u001b[0mSuccessfully installed python-multipart-0.0.6\n",
            "Collecting pyngrok\n",
            "  Downloading pyngrok-7.0.2.tar.gz (732 kB)\n",
            "\u001b[2K     \u001b[90m━━━━━━━━━━━━━━━━━━━━━━━━━━━━━━━━━━━━━━━━\u001b[0m \u001b[32m732.2/732.2 kB\u001b[0m \u001b[31m2.6 MB/s\u001b[0m eta \u001b[36m0:00:00\u001b[0m\n",
            "\u001b[?25h  Preparing metadata (setup.py) ... \u001b[?25l\u001b[?25hdone\n",
            "Requirement already satisfied: PyYAML in /usr/local/lib/python3.10/dist-packages (from pyngrok) (6.0.1)\n",
            "Building wheels for collected packages: pyngrok\n",
            "  Building wheel for pyngrok (setup.py) ... \u001b[?25l\u001b[?25hdone\n",
            "  Created wheel for pyngrok: filename=pyngrok-7.0.2-py3-none-any.whl size=21233 sha256=c1198e8c79aee8b905c82aff8beb34180a75cff6c4f7af7947aa9b112227728e\n",
            "  Stored in directory: /root/.cache/pip/wheels/63/3f/ca/3ee63fa3bf9dfcf6014bb5ea56026c8b218ad26b422fd9cce1\n",
            "Successfully built pyngrok\n",
            "Installing collected packages: pyngrok\n",
            "Successfully installed pyngrok-7.0.2\n",
            "Requirement already satisfied: nest-asyncio in /usr/local/lib/python3.10/dist-packages (1.5.8)\n",
            "Collecting uvicorn\n",
            "  Downloading uvicorn-0.24.0.post1-py3-none-any.whl (59 kB)\n",
            "\u001b[2K     \u001b[90m━━━━━━━━━━━━━━━━━━━━━━━━━━━━━━━━━━━━━━━━\u001b[0m \u001b[32m59.7/59.7 kB\u001b[0m \u001b[31m1.9 MB/s\u001b[0m eta \u001b[36m0:00:00\u001b[0m\n",
            "\u001b[?25hRequirement already satisfied: click>=7.0 in /usr/local/lib/python3.10/dist-packages (from uvicorn) (8.1.7)\n",
            "Collecting h11>=0.8 (from uvicorn)\n",
            "  Downloading h11-0.14.0-py3-none-any.whl (58 kB)\n",
            "\u001b[2K     \u001b[90m━━━━━━━━━━━━━━━━━━━━━━━━━━━━━━━━━━━━━━━━\u001b[0m \u001b[32m58.3/58.3 kB\u001b[0m \u001b[31m7.5 MB/s\u001b[0m eta \u001b[36m0:00:00\u001b[0m\n",
            "\u001b[?25hRequirement already satisfied: typing-extensions>=4.0 in /usr/local/lib/python3.10/dist-packages (from uvicorn) (4.5.0)\n",
            "Installing collected packages: h11, uvicorn\n",
            "\u001b[31mERROR: pip's dependency resolver does not currently take into account all the packages that are installed. This behaviour is the source of the following dependency conflicts.\n",
            "lida 0.0.10 requires fastapi, which is not installed.\n",
            "lida 0.0.10 requires kaleido, which is not installed.\u001b[0m\u001b[31m\n",
            "\u001b[0mSuccessfully installed h11-0.14.0 uvicorn-0.24.0.post1\n",
            "Collecting fastapi\n",
            "  Downloading fastapi-0.104.1-py3-none-any.whl (92 kB)\n",
            "\u001b[2K     \u001b[90m━━━━━━━━━━━━━━━━━━━━━━━━━━━━━━━━━━━━━━━━\u001b[0m \u001b[32m92.9/92.9 kB\u001b[0m \u001b[31m2.7 MB/s\u001b[0m eta \u001b[36m0:00:00\u001b[0m\n",
            "\u001b[?25hRequirement already satisfied: anyio<4.0.0,>=3.7.1 in /usr/local/lib/python3.10/dist-packages (from fastapi) (3.7.1)\n",
            "Requirement already satisfied: pydantic!=1.8,!=1.8.1,!=2.0.0,!=2.0.1,!=2.1.0,<3.0.0,>=1.7.4 in /usr/local/lib/python3.10/dist-packages (from fastapi) (1.10.13)\n",
            "Collecting starlette<0.28.0,>=0.27.0 (from fastapi)\n",
            "  Downloading starlette-0.27.0-py3-none-any.whl (66 kB)\n",
            "\u001b[2K     \u001b[90m━━━━━━━━━━━━━━━━━━━━━━━━━━━━━━━━━━━━━━━━\u001b[0m \u001b[32m67.0/67.0 kB\u001b[0m \u001b[31m7.5 MB/s\u001b[0m eta \u001b[36m0:00:00\u001b[0m\n",
            "\u001b[?25hCollecting typing-extensions>=4.8.0 (from fastapi)\n",
            "  Downloading typing_extensions-4.8.0-py3-none-any.whl (31 kB)\n",
            "Requirement already satisfied: idna>=2.8 in /usr/local/lib/python3.10/dist-packages (from anyio<4.0.0,>=3.7.1->fastapi) (3.6)\n",
            "Requirement already satisfied: sniffio>=1.1 in /usr/local/lib/python3.10/dist-packages (from anyio<4.0.0,>=3.7.1->fastapi) (1.3.0)\n",
            "Requirement already satisfied: exceptiongroup in /usr/local/lib/python3.10/dist-packages (from anyio<4.0.0,>=3.7.1->fastapi) (1.2.0)\n",
            "Installing collected packages: typing-extensions, starlette, fastapi\n",
            "  Attempting uninstall: typing-extensions\n",
            "    Found existing installation: typing_extensions 4.5.0\n",
            "    Uninstalling typing_extensions-4.5.0:\n",
            "      Successfully uninstalled typing_extensions-4.5.0\n",
            "\u001b[31mERROR: pip's dependency resolver does not currently take into account all the packages that are installed. This behaviour is the source of the following dependency conflicts.\n",
            "lida 0.0.10 requires kaleido, which is not installed.\n",
            "tensorflow-probability 0.22.0 requires typing-extensions<4.6.0, but you have typing-extensions 4.8.0 which is incompatible.\u001b[0m\u001b[31m\n",
            "\u001b[0mSuccessfully installed fastapi-0.104.1 starlette-0.27.0 typing-extensions-4.8.0\n",
            "Cloning into 'Segmentation_medical_images'...\n",
            "remote: Enumerating objects: 95, done.\u001b[K\n",
            "remote: Counting objects: 100% (23/23), done.\u001b[K\n",
            "remote: Compressing objects: 100% (22/22), done.\u001b[K\n",
            "remote: Total 95 (delta 10), reused 5 (delta 0), pack-reused 72\u001b[K\n",
            "Receiving objects: 100% (95/95), 58.68 MiB | 15.49 MiB/s, done.\n",
            "Resolving deltas: 100% (13/13), done.\n",
            "Collecting git+https://github.com/facebookresearch/segment-anything.git\n",
            "  Cloning https://github.com/facebookresearch/segment-anything.git to /tmp/pip-req-build-rtubqtl_\n",
            "  Running command git clone --filter=blob:none --quiet https://github.com/facebookresearch/segment-anything.git /tmp/pip-req-build-rtubqtl_\n",
            "  Resolved https://github.com/facebookresearch/segment-anything.git to commit 6fdee8f2727f4506cfbbe553e23b895e27956588\n",
            "  Preparing metadata (setup.py) ... \u001b[?25l\u001b[?25hdone\n",
            "Building wheels for collected packages: segment-anything\n",
            "  Building wheel for segment-anything (setup.py) ... \u001b[?25l\u001b[?25hdone\n",
            "  Created wheel for segment-anything: filename=segment_anything-1.0-py3-none-any.whl size=36587 sha256=86c1a796e21e25df071073bf646aa31f92da247f0cccff4ed37f0ede6dae38ec\n",
            "  Stored in directory: /tmp/pip-ephem-wheel-cache-judk0jit/wheels/10/cf/59/9ccb2f0a1bcc81d4fbd0e501680b5d088d690c6cfbc02dc99d\n",
            "Successfully built segment-anything\n",
            "Installing collected packages: segment-anything\n",
            "Successfully installed segment-anything-1.0\n",
            "/content/Segmentation_medical_images\n",
            "--2023-12-02 17:41:26--  https://dl.dropboxusercontent.com/scl/fi/9r90jmxqqu1jbsyxy6fr3/sam_vit_b_01ec64.pth?rlkey=to1ppb9n9l49gjyuqwywif6x9&dl=1\n",
            "Resolving dl.dropboxusercontent.com (dl.dropboxusercontent.com)... 162.125.81.15, 2620:100:6031:15::a27d:510f\n",
            "Connecting to dl.dropboxusercontent.com (dl.dropboxusercontent.com)|162.125.81.15|:443... connected.\n",
            "HTTP request sent, awaiting response... 200 OK\n",
            "Length: 375042383 (358M) [application/octet-stream]\n",
            "Saving to: ‘sam_vit_b_01ec64.pth?rlkey=to1ppb9n9l49gjyuqwywif6x9&dl=1’\n",
            "\n",
            "sam_vit_b_01ec64.pt 100%[===================>] 357.67M  11.8MB/s    in 32s     \n",
            "\n",
            "2023-12-02 17:42:00 (11.1 MB/s) - ‘sam_vit_b_01ec64.pth?rlkey=to1ppb9n9l49gjyuqwywif6x9&dl=1’ saved [375042383/375042383]\n",
            "\n",
            "--2023-12-02 17:42:00--  https://dl.dropboxusercontent.com/scl/fi/d8s4qd7fomld6nij9x0om/vit_DSB.pth?rlkey=y3hkw112mbd4yw2cmpyrk3fc1&dl=1\n",
            "Resolving dl.dropboxusercontent.com (dl.dropboxusercontent.com)... 162.125.81.15, 2620:100:6031:15::a27d:510f\n",
            "Connecting to dl.dropboxusercontent.com (dl.dropboxusercontent.com)|162.125.81.15|:443... connected.\n",
            "HTTP request sent, awaiting response... 200 OK\n",
            "Length: 375062910 (358M) [application/octet-stream]\n",
            "Saving to: ‘vit_DSB.pth?rlkey=y3hkw112mbd4yw2cmpyrk3fc1&dl=1’\n",
            "\n",
            "vit_DSB.pth?rlkey=y 100%[===================>] 357.69M  17.0MB/s    in 22s     \n",
            "\n",
            "2023-12-02 17:42:22 (16.6 MB/s) - ‘vit_DSB.pth?rlkey=y3hkw112mbd4yw2cmpyrk3fc1&dl=1’ saved [375062910/375062910]\n",
            "\n"
          ]
        }
      ]
    },
    {
      "cell_type": "markdown",
      "source": [
        "# SAM PATH MODEL"
      ],
      "metadata": {
        "id": "eG1G4eiiUOrw"
      }
    },
    {
      "cell_type": "code",
      "source": [
        "!mv 'sam_vit_b_01ec64.pth?rlkey=to1ppb9n9l49gjyuqwywif6x9&dl=1' 'sam_vit_b_01ec64.pth'"
      ],
      "metadata": {
        "id": "l2TZQBtmV3ZP"
      },
      "execution_count": 2,
      "outputs": []
    },
    {
      "cell_type": "code",
      "source": [
        "from MODELS.SAM.SAM_WEIGTHS_OTHERS_TRAINING import sam_path"
      ],
      "metadata": {
        "id": "oQmpHuK1TL4c"
      },
      "execution_count": 3,
      "outputs": []
    },
    {
      "cell_type": "code",
      "source": [
        "def inference_SAM(img):\n",
        "  f = sam_path.sam_inference(im_sam,mask_generator)\n"
      ],
      "metadata": {
        "id": "GTJ33KkBWBi8"
      },
      "execution_count": null,
      "outputs": []
    },
    {
      "cell_type": "code",
      "source": [
        "!wget \"https://dl.dropboxusercontent.com/scl/fi/d8s4qd7fomld6nij9x0om/vit_DSB.pth?rlkey=y3hkw112mbd4yw2cmpyrk3fc1&dl=1\"\n",
        "!mv 'vit_DSB.pth?rlkey=y3hkw112mbd4yw2cmpyrk3fc1&dl=1' 'vit_DSB.pth'"
      ],
      "metadata": {
        "colab": {
          "base_uri": "https://localhost:8080/"
        },
        "id": "eLSouYVUXYN6",
        "outputId": "392b84ab-feea-4b5e-a482-2ae0cd7686d9"
      },
      "execution_count": 11,
      "outputs": [
        {
          "output_type": "stream",
          "name": "stdout",
          "text": [
            "--2023-12-02 16:30:29--  https://dl.dropboxusercontent.com/scl/fi/d8s4qd7fomld6nij9x0om/vit_DSB.pth?rlkey=y3hkw112mbd4yw2cmpyrk3fc1&dl=1\n",
            "Resolving dl.dropboxusercontent.com (dl.dropboxusercontent.com)... 162.125.81.15, 2620:100:6031:15::a27d:510f\n",
            "Connecting to dl.dropboxusercontent.com (dl.dropboxusercontent.com)|162.125.81.15|:443... connected.\n",
            "HTTP request sent, awaiting response... 200 OK\n",
            "Length: 375062910 (358M) [application/octet-stream]\n",
            "Saving to: ‘vit_DSB.pth?rlkey=y3hkw112mbd4yw2cmpyrk3fc1&dl=1’\n",
            "\n",
            "vit_DSB.pth?rlkey=y 100%[===================>] 357.69M  11.5MB/s    in 33s     \n",
            "\n",
            "2023-12-02 16:31:04 (10.7 MB/s) - ‘vit_DSB.pth?rlkey=y3hkw112mbd4yw2cmpyrk3fc1&dl=1’ saved [375062910/375062910]\n",
            "\n"
          ]
        }
      ]
    },
    {
      "cell_type": "code",
      "source": [
        "mask_generator = sam_path.sam_segmentation('./vit_DSB.pth')"
      ],
      "metadata": {
        "colab": {
          "base_uri": "https://localhost:8080/",
          "height": 757
        },
        "id": "VQhhCfcxUUpn",
        "outputId": "b89eccfb-ca4d-49f2-f4de-1a43b73e6826"
      },
      "execution_count": 12,
      "outputs": [
        {
          "output_type": "error",
          "ename": "RuntimeError",
          "evalue": "ignored",
          "traceback": [
            "\u001b[0;31m---------------------------------------------------------------------------\u001b[0m",
            "\u001b[0;31mRuntimeError\u001b[0m                              Traceback (most recent call last)",
            "\u001b[0;32m<ipython-input-12-ce90a8772efe>\u001b[0m in \u001b[0;36m<cell line: 1>\u001b[0;34m()\u001b[0m\n\u001b[0;32m----> 1\u001b[0;31m \u001b[0mmask_generator\u001b[0m \u001b[0;34m=\u001b[0m \u001b[0msam_path\u001b[0m\u001b[0;34m.\u001b[0m\u001b[0msam_segmentation\u001b[0m\u001b[0;34m(\u001b[0m\u001b[0;34m'./vit_DSB.pth'\u001b[0m\u001b[0;34m)\u001b[0m\u001b[0;34m\u001b[0m\u001b[0;34m\u001b[0m\u001b[0m\n\u001b[0m",
            "\u001b[0;32m/content/Segmentation_medical_images/MODELS/SAM/SAM_WEIGTHS_OTHERS_TRAINING/sam_path.py\u001b[0m in \u001b[0;36msam_segmentation\u001b[0;34m(path_weigths)\u001b[0m\n\u001b[1;32m      8\u001b[0m \u001b[0;32mdef\u001b[0m \u001b[0msam_segmentation\u001b[0m\u001b[0;34m(\u001b[0m\u001b[0mpath_weigths\u001b[0m\u001b[0;34m)\u001b[0m\u001b[0;34m:\u001b[0m\u001b[0;34m\u001b[0m\u001b[0;34m\u001b[0m\u001b[0m\n\u001b[1;32m      9\u001b[0m   \u001b[0;31m# weigths of pretrained sam with medical iamge https://huggingface.co/flaviagiammarino/medsam-vit-base\u001b[0m\u001b[0;34m\u001b[0m\u001b[0;34m\u001b[0m\u001b[0m\n\u001b[0;32m---> 10\u001b[0;31m   \u001b[0msam\u001b[0m \u001b[0;34m=\u001b[0m \u001b[0msam_model_registry\u001b[0m\u001b[0;34m[\u001b[0m\u001b[0;34m'vit_b'\u001b[0m\u001b[0;34m]\u001b[0m\u001b[0;34m(\u001b[0m\u001b[0mcheckpoint\u001b[0m\u001b[0;34m=\u001b[0m\u001b[0mpath_weigths\u001b[0m\u001b[0;34m)\u001b[0m \u001b[0;31m#adaptation on dropbox\u001b[0m\u001b[0;34m\u001b[0m\u001b[0;34m\u001b[0m\u001b[0m\n\u001b[0m\u001b[1;32m     11\u001b[0m   \u001b[0mmask_generator\u001b[0m \u001b[0;34m=\u001b[0m \u001b[0mSamAutomaticMaskGenerator\u001b[0m\u001b[0;34m(\u001b[0m\u001b[0msam\u001b[0m\u001b[0;34m)\u001b[0m\u001b[0;34m\u001b[0m\u001b[0;34m\u001b[0m\u001b[0m\n\u001b[1;32m     12\u001b[0m   \u001b[0mDEVICE\u001b[0m \u001b[0;34m=\u001b[0m \u001b[0mtorch\u001b[0m\u001b[0;34m.\u001b[0m\u001b[0mdevice\u001b[0m\u001b[0;34m(\u001b[0m\u001b[0;34m'cuda:0'\u001b[0m \u001b[0;32mif\u001b[0m \u001b[0mtorch\u001b[0m\u001b[0;34m.\u001b[0m\u001b[0mcuda\u001b[0m\u001b[0;34m.\u001b[0m\u001b[0mis_available\u001b[0m\u001b[0;34m(\u001b[0m\u001b[0;34m)\u001b[0m \u001b[0;32melse\u001b[0m \u001b[0;34m'cpu'\u001b[0m\u001b[0;34m)\u001b[0m\u001b[0;34m\u001b[0m\u001b[0;34m\u001b[0m\u001b[0m\n",
            "\u001b[0;32m/usr/local/lib/python3.10/dist-packages/segment_anything/build_sam.py\u001b[0m in \u001b[0;36mbuild_sam_vit_b\u001b[0;34m(checkpoint)\u001b[0m\n\u001b[1;32m     36\u001b[0m \u001b[0;34m\u001b[0m\u001b[0m\n\u001b[1;32m     37\u001b[0m \u001b[0;32mdef\u001b[0m \u001b[0mbuild_sam_vit_b\u001b[0m\u001b[0;34m(\u001b[0m\u001b[0mcheckpoint\u001b[0m\u001b[0;34m=\u001b[0m\u001b[0;32mNone\u001b[0m\u001b[0;34m)\u001b[0m\u001b[0;34m:\u001b[0m\u001b[0;34m\u001b[0m\u001b[0;34m\u001b[0m\u001b[0m\n\u001b[0;32m---> 38\u001b[0;31m     return _build_sam(\n\u001b[0m\u001b[1;32m     39\u001b[0m         \u001b[0mencoder_embed_dim\u001b[0m\u001b[0;34m=\u001b[0m\u001b[0;36m768\u001b[0m\u001b[0;34m,\u001b[0m\u001b[0;34m\u001b[0m\u001b[0;34m\u001b[0m\u001b[0m\n\u001b[1;32m     40\u001b[0m         \u001b[0mencoder_depth\u001b[0m\u001b[0;34m=\u001b[0m\u001b[0;36m12\u001b[0m\u001b[0;34m,\u001b[0m\u001b[0;34m\u001b[0m\u001b[0;34m\u001b[0m\u001b[0m\n",
            "\u001b[0;32m/usr/local/lib/python3.10/dist-packages/segment_anything/build_sam.py\u001b[0m in \u001b[0;36m_build_sam\u001b[0;34m(encoder_embed_dim, encoder_depth, encoder_num_heads, encoder_global_attn_indexes, checkpoint)\u001b[0m\n\u001b[1;32m    104\u001b[0m         \u001b[0;32mwith\u001b[0m \u001b[0mopen\u001b[0m\u001b[0;34m(\u001b[0m\u001b[0mcheckpoint\u001b[0m\u001b[0;34m,\u001b[0m \u001b[0;34m\"rb\"\u001b[0m\u001b[0;34m)\u001b[0m \u001b[0;32mas\u001b[0m \u001b[0mf\u001b[0m\u001b[0;34m:\u001b[0m\u001b[0;34m\u001b[0m\u001b[0;34m\u001b[0m\u001b[0m\n\u001b[1;32m    105\u001b[0m             \u001b[0mstate_dict\u001b[0m \u001b[0;34m=\u001b[0m \u001b[0mtorch\u001b[0m\u001b[0;34m.\u001b[0m\u001b[0mload\u001b[0m\u001b[0;34m(\u001b[0m\u001b[0mf\u001b[0m\u001b[0;34m)\u001b[0m\u001b[0;34m\u001b[0m\u001b[0;34m\u001b[0m\u001b[0m\n\u001b[0;32m--> 106\u001b[0;31m         \u001b[0msam\u001b[0m\u001b[0;34m.\u001b[0m\u001b[0mload_state_dict\u001b[0m\u001b[0;34m(\u001b[0m\u001b[0mstate_dict\u001b[0m\u001b[0;34m)\u001b[0m\u001b[0;34m\u001b[0m\u001b[0;34m\u001b[0m\u001b[0m\n\u001b[0m\u001b[1;32m    107\u001b[0m     \u001b[0;32mreturn\u001b[0m \u001b[0msam\u001b[0m\u001b[0;34m\u001b[0m\u001b[0;34m\u001b[0m\u001b[0m\n",
            "\u001b[0;32m/usr/local/lib/python3.10/dist-packages/torch/nn/modules/module.py\u001b[0m in \u001b[0;36mload_state_dict\u001b[0;34m(self, state_dict, strict, assign)\u001b[0m\n\u001b[1;32m   2150\u001b[0m \u001b[0;34m\u001b[0m\u001b[0m\n\u001b[1;32m   2151\u001b[0m         \u001b[0;32mif\u001b[0m \u001b[0mlen\u001b[0m\u001b[0;34m(\u001b[0m\u001b[0merror_msgs\u001b[0m\u001b[0;34m)\u001b[0m \u001b[0;34m>\u001b[0m \u001b[0;36m0\u001b[0m\u001b[0;34m:\u001b[0m\u001b[0;34m\u001b[0m\u001b[0;34m\u001b[0m\u001b[0m\n\u001b[0;32m-> 2152\u001b[0;31m             raise RuntimeError('Error(s) in loading state_dict for {}:\\n\\t{}'.format(\n\u001b[0m\u001b[1;32m   2153\u001b[0m                                self.__class__.__name__, \"\\n\\t\".join(error_msgs)))\n\u001b[1;32m   2154\u001b[0m         \u001b[0;32mreturn\u001b[0m \u001b[0m_IncompatibleKeys\u001b[0m\u001b[0;34m(\u001b[0m\u001b[0mmissing_keys\u001b[0m\u001b[0;34m,\u001b[0m \u001b[0munexpected_keys\u001b[0m\u001b[0;34m)\u001b[0m\u001b[0;34m\u001b[0m\u001b[0;34m\u001b[0m\u001b[0m\n",
            "\u001b[0;31mRuntimeError\u001b[0m: Error(s) in loading state_dict for Sam:\n\tMissing key(s) in state_dict: \"image_encoder.pos_embed\", \"image_encoder.patch_embed.proj.weight\", \"image_encoder.patch_embed.proj.bias\", \"image_encoder.blocks.0.norm1.weight\", \"image_encoder.blocks.0.norm1.bias\", \"image_encoder.blocks.0.attn.rel_pos_h\", \"image_encoder.blocks.0.attn.rel_pos_w\", \"image_encoder.blocks.0.attn.qkv.weight\", \"image_encoder.blocks.0.attn.qkv.bias\", \"image_encoder.blocks.0.attn.proj.weight\", \"image_encoder.blocks.0.attn.proj.bias\", \"image_encoder.blocks.0.norm2.weight\", \"image_encoder.blocks.0.norm2.bias\", \"image_encoder.blocks.0.mlp.lin1.weight\", \"image_encoder.blocks.0.mlp.lin1.bias\", \"image_encoder.blocks.0.mlp.lin2.weight\", \"image_encoder.blocks.0.mlp.lin2.bias\", \"image_encoder.blocks.1.norm1.weight\", \"image_encoder.blocks.1.norm1.bias\", \"image_encoder.blocks.1.attn.rel_pos_h\", \"image_encoder.blocks.1.attn.rel_pos_w\", \"image_encoder.blocks.1.attn.qkv.weight\", \"image_encoder.blocks.1.attn.qkv.bias\", \"image_encoder.blocks.1.attn.proj.weight\", \"image_encoder.blocks.1.attn.proj.bias\", \"image_encoder.blocks.1.norm2.weight\", \"image_encoder.blocks.1.norm2.bias\", \"image_encoder.blocks.1.mlp.lin1.weight\", \"image_encoder.blocks.1.mlp.lin1.bias\", \"image_encoder.blocks.1.mlp.lin2.weight\", \"image_encoder.blocks.1.mlp.lin2.bias\", \"image_encoder.blocks.2.norm1.weight\", \"image_encoder.blocks.2.norm1.bias\", \"image_encoder.blocks.2.attn.rel_pos_h\", \"image_encoder.blocks.2.attn.rel_pos_w\", \"image_encoder.blocks.2.attn.qkv.weight\", \"image_encoder.blocks.2.attn.qk...\n\tUnexpected key(s) in state_dict: \"shared_image_embedding.positional_embedding\", \"vision_encoder.pos_embed\", \"vision_encoder.patch_embed.projection.weight\", \"vision_encoder.patch_embed.projection.bias\", \"vision_encoder.layers.0.layer_norm1.weight\", \"vision_encoder.layers.0.layer_norm1.bias\", \"vision_encoder.layers.0.attn.rel_pos_h\", \"vision_encoder.layers.0.attn.rel_pos_w\", \"vision_encoder.layers.0.attn.qkv.weight\", \"vision_encoder.layers.0.attn.qkv.bias\", \"vision_encoder.layers.0.attn.proj.weight\", \"vision_encoder.layers.0.attn.proj.bias\", \"vision_encoder.layers.0.layer_norm2.weight\", \"vision_encoder.layers.0.layer_norm2.bias\", \"vision_encoder.layers.0.mlp.lin1.weight\", \"vision_encoder.layers.0.mlp.lin1.bias\", \"vision_encoder.layers.0.mlp.lin2.weight\", \"vision_encoder.layers.0.mlp.lin2.bias\", \"vision_encoder.layers.1.layer_norm1.weight\", \"vision_encoder.layers.1.layer_norm1.bias\", \"vision_encoder.layers.1.attn.rel_pos_h\", \"vision_encoder.layers.1.attn.rel_pos_w\", \"vision_encoder.layers.1.attn.qkv.weight\", \"vision_encoder.layers.1.attn.qkv.bias\", \"vision_encoder.layers.1.attn.proj.weight\", \"vision_encoder.layers.1.attn.proj.bias\", \"vision_encoder.layers.1.layer_norm2.weight\", \"vision_encoder.layers.1.layer_norm2.bias\", \"vision_encoder.layers.1.mlp.lin1.weight\", \"vision_encoder.layers.1.mlp.lin1.bias\", \"vision_encoder.layers.1.mlp.lin2.weight\", \"vision_encoder.layers.1.mlp.lin2.bias\", \"vision_encoder.layers.2.layer_norm1.weight\", \"vision_encoder.layers.2.layer_norm1.bias\", ..."
          ]
        }
      ]
    },
    {
      "cell_type": "code",
      "source": [
        "import matplotlib.pyplot as plt"
      ],
      "metadata": {
        "id": "t-OwkItdWX0O"
      },
      "execution_count": 5,
      "outputs": []
    },
    {
      "cell_type": "code",
      "source": [
        "import cv2"
      ],
      "metadata": {
        "id": "eZh_jC68WftP"
      },
      "execution_count": 7,
      "outputs": []
    },
    {
      "cell_type": "code",
      "source": [
        "import numpy as np"
      ],
      "metadata": {
        "id": "ST7Mps6gX_hs"
      },
      "execution_count": 17,
      "outputs": []
    },
    {
      "cell_type": "code",
      "source": [
        "np.min(im_sam)"
      ],
      "metadata": {
        "colab": {
          "base_uri": "https://localhost:8080/"
        },
        "id": "l8xqWhVZXsVX",
        "outputId": "368eb056-d814-47b3-e180-ae930b7de0aa"
      },
      "execution_count": 19,
      "outputs": [
        {
          "output_type": "execute_result",
          "data": {
            "text/plain": [
              "0"
            ]
          },
          "metadata": {},
          "execution_count": 19
        }
      ]
    },
    {
      "cell_type": "code",
      "source": [
        "import sys\n",
        "import numpy\n",
        "numpy.set_printoptions(threshold=sys.maxsize)"
      ],
      "metadata": {
        "id": "IoaTdeF5apzk"
      },
      "execution_count": 35,
      "outputs": []
    },
    {
      "cell_type": "code",
      "source": [
        "import numpy as np"
      ],
      "metadata": {
        "id": "XtCdFAbwarBd"
      },
      "execution_count": 36,
      "outputs": []
    },
    {
      "cell_type": "code",
      "source": [
        "mask_generator.generate()"
      ],
      "metadata": {
        "id": "YwUpaYKFaxT3"
      },
      "execution_count": null,
      "outputs": []
    },
    {
      "cell_type": "code",
      "source": [
        "f*255"
      ],
      "metadata": {
        "id": "gUKEE57DabeU"
      },
      "execution_count": null,
      "outputs": []
    },
    {
      "cell_type": "code",
      "source": [
        "f"
      ],
      "metadata": {
        "id": "b0Mb1Wz6a59b"
      },
      "execution_count": null,
      "outputs": []
    },
    {
      "cell_type": "code",
      "source": [
        "sorted_result = sorted(masks, key=(lambda x: x['area']),      reverse=True)\n",
        "# Plot for each segment area\n",
        "for val in sorted_result:\n",
        "  mask = val['segmentation']\n",
        "  img = np.ones((mask.shape[0], mask.shape[1], 3))\n",
        "  color_mask = np.random.random((1, 3)).tolist()[0]\n",
        "  for i in range(3):\n",
        "    img[:,:,i] = color_mask[i]\n",
        "    plt.imshow(np.dstack((img, mask*0.5)))\n",
        "    plt.imshow\n",
        ""
      ],
      "metadata": {
        "id": "ft5dSXCCdSvi"
      },
      "execution_count": null,
      "outputs": []
    },
    {
      "cell_type": "code",
      "source": [
        "plt.imshow(img)"
      ],
      "metadata": {
        "colab": {
          "base_uri": "https://localhost:8080/",
          "height": 452
        },
        "id": "I4zVs_PneOD-",
        "outputId": "cdf38319-4798-4c50-a245-77acdf827eeb"
      },
      "execution_count": 46,
      "outputs": [
        {
          "output_type": "execute_result",
          "data": {
            "text/plain": [
              "<matplotlib.image.AxesImage at 0x7fd067c8f6d0>"
            ]
          },
          "metadata": {},
          "execution_count": 46
        },
        {
          "output_type": "display_data",
          "data": {
            "text/plain": [
              "<Figure size 640x480 with 1 Axes>"
            ],
            "image/png": "[encoded data removed]"
          },
          "metadata": {}
        }
      ]
    },
    {
      "cell_type": "code",
      "source": [
        "im_sam = cv2.imread('./imagen_train.jpg')\n",
        "masks = mask_generator.generate(im_sam)\n",
        "\n",
        "sorted_result = sorted(masks, key=(lambda x: x['area']),      reverse=True)\n",
        "# Plot for each segment area\n",
        "for val in sorted_result:\n",
        "  mask = val['segmentation']\n",
        "  img = np.ones((mask.shape[0], mask.shape[1], 3))\n",
        "  color_mask = np.random.random((1, 3)).tolist()[0]\n",
        "  for i in range(3):\n",
        "    img[:,:,i] = color_mask[i]\n"
      ],
      "metadata": {
        "id": "MEmcfFAeUmFT"
      },
      "execution_count": 45,
      "outputs": []
    },
    {
      "cell_type": "markdown",
      "source": [
        "# UNET MODEL"
      ],
      "metadata": {
        "id": "2D-gXwesiQVv"
      }
    },
    {
      "cell_type": "code",
      "source": [
        "import tensorflow as tf"
      ],
      "metadata": {
        "id": "hyr5sq7Yiowl"
      },
      "execution_count": 2,
      "outputs": []
    },
    {
      "cell_type": "code",
      "source": [
        "def DICE_metric(y_true, y_pred):\n",
        "\n",
        "  y_true = tf.cast(y_true , dtype=tf.double)\n",
        "\n",
        "  y_pred = tf.cast(y_pred  , dtype=tf.double)\n",
        "\n",
        "  intersection = tf.reduce_sum(y_true * y_pred)\n",
        "  union = tf.reduce_sum(y_true) + tf.reduce_sum(y_pred)\n",
        "  dice = (2.0 * intersection + 1e-5) / (union + 1e-5)\n",
        "\n",
        "  return dice"
      ],
      "metadata": {
        "id": "UksP97hfixJM"
      },
      "execution_count": 3,
      "outputs": []
    },
    {
      "cell_type": "code",
      "source": [
        "model_unet = tf.keras.models.load_model('./MODELS/TRAIN/UNET/checkpoints', custom_objects={'DICE_metric': DICE_metric})"
      ],
      "metadata": {
        "id": "twBrpjZvioQh"
      },
      "execution_count": 4,
      "outputs": []
    },
    {
      "cell_type": "code",
      "source": [
        "def inference_unet(img):\n",
        "  img_resized = cv2.resize(img, (128, 128))\n",
        "  img_gray = cv2.cvtColor(img_resized, cv2.COLOR_BGR2GRAY)\n",
        "  img_gray = np.expand_dims(img_gray, axis=0)\n",
        "  y_pred_unet = model_unet.predict(img_gray)\n",
        "  y_pred_unet = y_pred_unet[0,:,:,0]\n",
        "  y_pred_unet = np.repeat(y_pred_unet[..., np.newaxis], 3, axis=-1)\n",
        "  y_pred_unet = y_pred_unet*255\n",
        "  y_pred_unet = y_pred_unet.astype(np.uint8)\n",
        "  return y_pred_unet\n"
      ],
      "metadata": {
        "id": "C7jL4Q7tlz0A"
      },
      "execution_count": 30,
      "outputs": []
    },
    {
      "cell_type": "markdown",
      "source": [
        "# mf2"
      ],
      "metadata": {
        "id": "ZCvTW71pinM_"
      }
    },
    {
      "cell_type": "code",
      "source": [
        "model_mf2 = tf.keras.models.load_model('./MODELS/TRAIN/MF2/checkpoints', custom_objects={'DICE_metric': DICE_metric})"
      ],
      "metadata": {
        "id": "7kZI2U_1tkAb"
      },
      "execution_count": 44,
      "outputs": []
    },
    {
      "cell_type": "code",
      "source": [
        "def inference_MF2(img):\n",
        "  img_resized = cv2.resize(img, (128, 128))\n",
        "  img_gray = cv2.cvtColor(img_resized, cv2.COLOR_BGR2GRAY)\n",
        "  img_gray = np.expand_dims(img_gray, axis=0)\n",
        "  y_pred_mf2 = model_mf2.predict(img_gray)\n",
        "  y_pred_mf2 = y_pred_mf2[0,:,:,0]\n",
        "  y_pred_mf2 = np.repeat(y_pred_mf2[..., np.newaxis], 3, axis=-1)\n",
        "  y_pred_mf2 = y_pred_mf2*255\n",
        "  y_pred_mf2 = y_pred_mf2.astype(np.uint8)\n",
        "  return y_pred_mf2"
      ],
      "metadata": {
        "id": "tFnLtPiqtq3A"
      },
      "execution_count": 45,
      "outputs": []
    },
    {
      "cell_type": "code",
      "source": [
        "https://drive.google.com/drive/folders/1_AMtUL_okP81k8L_WPHJnQQEN_gKttaq?usp=drive_link"
      ],
      "metadata": {
        "id": "MjTPGSl6zBxb"
      },
      "execution_count": null,
      "outputs": []
    },
    {
      "cell_type": "markdown",
      "source": [
        "# SAM_UNETR"
      ],
      "metadata": {
        "id": "J3FFHDK9zf5V"
      }
    },
    {
      "cell_type": "code",
      "source": [
        "https://drive.google.com/file/d/1-U2P3YEXO4GKDJQyuuLKdn9nDb0CbxQO/view?usp=sharing"
      ],
      "metadata": {
        "id": "pwxGyHik0jzv"
      },
      "execution_count": null,
      "outputs": []
    },
    {
      "cell_type": "code",
      "source": [
        "!wget 'https://drive.google.com/uc?export=download&id=1-U2P3YEXO4GKDJQyuuLKdn9nDb0CbxQO' -O SAMUnetrV2_128x128_pretrained_D_S_B_128_200_last_weigths.pth\n"
      ],
      "metadata": {
        "colab": {
          "base_uri": "https://localhost:8080/"
        },
        "id": "oIvke1A6zie5",
        "outputId": "6848e4cb-31c6-4c5c-bb6d-4f16d83a2241"
      },
      "execution_count": 46,
      "outputs": [
        {
          "output_type": "stream",
          "name": "stdout",
          "text": [
            "--2023-12-02 18:37:58--  https://drive.google.com/uc?export=download&id=1-U2P3YEXO4GKDJQyuuLKdn9nDb0CbxQO\n",
            "Resolving drive.google.com (drive.google.com)... 172.217.194.101, 172.217.194.139, 172.217.194.138, ...\n",
            "Connecting to drive.google.com (drive.google.com)|172.217.194.101|:443... connected.\n",
            "HTTP request sent, awaiting response... 200 OK\n",
            "Length: unspecified [text/html]\n",
            "Saving to: ‘SAMUnetrV2_128x128_pretrained_D_S_B_128_200_last_weigths.pth’\n",
            "\n",
            "SAMUnetrV2_128x128_     [ <=>                ]   2.27K  --.-KB/s    in 0s      \n",
            "\n",
            "2023-12-02 18:37:58 (36.4 MB/s) - ‘SAMUnetrV2_128x128_pretrained_D_S_B_128_200_last_weigths.pth’ saved [2323]\n",
            "\n"
          ]
        }
      ]
    },
    {
      "cell_type": "markdown",
      "source": [
        "# SERVER"
      ],
      "metadata": {
        "id": "6Pm5LVj5ninS"
      }
    },
    {
      "cell_type": "code",
      "source": [
        "import base64\n",
        "import numpy as np\n",
        "from fastapi import FastAPI\n",
        "from pydantic import BaseModel\n",
        "from fastapi import FastAPI, File, UploadFile\n",
        "from fastapi.middleware.cors import CORSMiddleware\n",
        "from PIL import Image\n",
        "import io\n",
        "import uvicorn\n",
        "import os\n",
        "from pyngrok import ngrok\n",
        "import nest_asyncio\n",
        "import cv2\n",
        "from pydantic import BaseModel\n",
        "import matplotlib.pyplot as plt"
      ],
      "metadata": {
        "id": "LZcFqEDmkxRb"
      },
      "execution_count": 6,
      "outputs": []
    },
    {
      "cell_type": "code",
      "source": [
        "def image_to_base64(img):\n",
        "\n",
        "  image = Image.fromarray(img)\n",
        "  buffer = io.BytesIO()\n",
        "  image.save(buffer, format=\"JPEG\")\n",
        "  buffer.seek(0)\n",
        "  img_bytes = buffer.getvalue()\n",
        "  img_base64 = base64.b64encode(img_bytes)\n",
        "  img_base64_str = img_base64.decode('utf-8')\n",
        "\n",
        "  return img_base64_str"
      ],
      "metadata": {
        "id": "tx3c3vktkvaH"
      },
      "execution_count": 19,
      "outputs": []
    },
    {
      "cell_type": "code",
      "execution_count": 35,
      "metadata": {
        "colab": {
          "base_uri": "https://localhost:8080/"
        },
        "id": "A10mu_sIn5UO",
        "outputId": "16ff23d2-e832-4f21-a886-7923842ed3a6"
      },
      "outputs": [
        {
          "output_type": "stream",
          "name": "stdout",
          "text": [
            "Public URL: https://75c3-34-143-149-107.ngrok-free.app\n"
          ]
        },
        {
          "output_type": "stream",
          "name": "stderr",
          "text": [
            "INFO:     Started server process [936]\n",
            "INFO:     Waiting for application startup.\n",
            "INFO:     Application startup complete.\n",
            "INFO:     Uvicorn running on http://0.0.0.0:8000 (Press CTRL+C to quit)\n"
          ]
        },
        {
          "output_type": "stream",
          "name": "stdout",
          "text": [
            "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\n",
            "1/1 [==============================] - 0s 21ms/step\n",
            "1/1 [==============================] - 1s 1s/step\n",
            "INFO:     35.196.229.31:0 - \"POST /predict/ HTTP/1.1\" 200 OK\n"
          ]
        },
        {
          "output_type": "stream",
          "name": "stderr",
          "text": [
            "INFO:     Shutting down\n",
            "INFO:     Waiting for application shutdown.\n",
            "INFO:     Application shutdown complete.\n",
            "INFO:     Finished server process [936]\n"
          ]
        }
      ],
      "source": [
        "class inputimg(BaseModel):\n",
        "    img: str\n",
        "    format: str\n",
        "\n",
        "app = FastAPI()\n",
        "\n",
        "# Permitir solicitudes desde cualquier origen (para evitar problemas CORS con Streamlit)\n",
        "app.add_middleware(\n",
        "    CORSMiddleware,\n",
        "    allow_origins=[\"*\"],\n",
        "    allow_credentials=True,\n",
        "    allow_methods=[\"*\"],\n",
        "    allow_headers=[\"*\"],\n",
        ")\n",
        "\n",
        "@app.post(\"/predict/\")\n",
        "async def predict_1(inp: inputimg):\n",
        "  # Aquí va la lógica para procesar la imagen y obtener la máscara\n",
        "  img_base64 = inp.img\n",
        "  print(img_base64)\n",
        "  # Decodificar la cadena base6\n",
        "  img_bytes = base64.b64decode(img_base64)\n",
        "\n",
        "  img_array = cv2.imdecode(np.frombuffer(img_bytes, np.uint8), cv2.IMREAD_COLOR)\n",
        "\n",
        "\n",
        "\n",
        "\n",
        "  # # Realizar la inferencia con tu modelo aquí\n",
        "  # mask1, mask2, mask3, mask4 = predic()#tu_modelo.predict(image)\n",
        "  mask1 = inference_unet(img_array)\n",
        "  mask2 = inference_MF2(img_array)\n",
        "\n",
        "  mask1_base64 = image_to_base64(mask1)\n",
        "  mask2_base64 = image_to_base64(mask2)\n",
        "  mask3_base64 = image_to_base64(mask1)\n",
        "  mask4_base64 = image_to_base64(mask1)\n",
        "\n",
        "\n",
        "  # # Convertir la máscara en un formato adecuado para enviar de vuelta\n",
        "  # # Por ejemplo, convertirla en bytes\n",
        "\n",
        "  return {\"mask1\": mask1_base64,\n",
        "          \"mask2\": mask2_base64,\n",
        "          \"mask3\": mask3_base64,\n",
        "          \"mask4\": mask4_base64}\n",
        "\n",
        "\n",
        "if __name__ == \"__main__\":\n",
        "    ngrok.kill()\n",
        "    auth_token = \"2YxgAoLPgpGapNB2hqUQJ9v9LdO_7Kq2zswPZ3agBZJowyfzv\"\n",
        "    os.system(f\"ngrok authtoken {auth_token}\")\n",
        "    ngrok.set_auth_token(auth_token)\n",
        "\n",
        "    ngrok_tunnel = ngrok.connect(8000)  # Eliminar await aquí\n",
        "    print('Public URL:', ngrok_tunnel.public_url)\n",
        "\n",
        "    nest_asyncio.apply()\n",
        "    uvicorn.run(app, host=\"0.0.0.0\", port=8000)\n"
      ]
    },
    {
      "cell_type": "code",
      "source": [
        "ngrok.kill()\n",
        "auth_token = \"2YxgAoLPgpGapNB2hqUQJ9v9LdO_7Kq2zswPZ3agBZJowyfzv\"\n",
        "os.system(f\"ngrok authtoken {auth_token}\")\n",
        "ngrok.set_auth_token(auth_token)\n",
        "\n",
        "ngrok_tunnel = await ngrok.connect(8000)\n",
        "print('Public URL:', ngrok_tunnel.public_url)\n",
        "nest_asyncio.apply()\n",
        "uvicorn.run(app, port=8000)"
      ],
      "metadata": {
        "colab": {
          "base_uri": "https://localhost:8080/",
          "height": 514
        },
        "id": "v-qbzuyMpdIU",
        "outputId": "2e255f70-433d-4ca5-94cc-151078dfee8c"
      },
      "execution_count": null,
      "outputs": [
        {
          "output_type": "error",
          "ename": "ValueError",
          "evalue": "ignored",
          "traceback": [
            "\u001b[0;31m---------------------------------------------------------------------------\u001b[0m",
            "\u001b[0;31mValueError\u001b[0m                                Traceback (most recent call last)",
            "\u001b[0;32m<ipython-input-10-1b601e7d44ee>\u001b[0m in \u001b[0;36m<cell line: 6>\u001b[0;34m()\u001b[0m\n\u001b[1;32m      4\u001b[0m \u001b[0mngrok\u001b[0m\u001b[0;34m.\u001b[0m\u001b[0mset_auth_token\u001b[0m\u001b[0;34m(\u001b[0m\u001b[0mauth_token\u001b[0m\u001b[0;34m)\u001b[0m\u001b[0;34m\u001b[0m\u001b[0;34m\u001b[0m\u001b[0m\n\u001b[1;32m      5\u001b[0m \u001b[0;34m\u001b[0m\u001b[0m\n\u001b[0;32m----> 6\u001b[0;31m \u001b[0mngrok_tunnel\u001b[0m \u001b[0;34m=\u001b[0m \u001b[0;32mawait\u001b[0m \u001b[0mngrok\u001b[0m\u001b[0;34m.\u001b[0m\u001b[0mconnect\u001b[0m\u001b[0;34m(\u001b[0m\u001b[0;36m8000\u001b[0m\u001b[0;34m)\u001b[0m\u001b[0;34m\u001b[0m\u001b[0;34m\u001b[0m\u001b[0m\n\u001b[0m\u001b[1;32m      7\u001b[0m \u001b[0mprint\u001b[0m\u001b[0;34m(\u001b[0m\u001b[0;34m'Public URL:'\u001b[0m\u001b[0;34m,\u001b[0m \u001b[0mngrok_tunnel\u001b[0m\u001b[0;34m.\u001b[0m\u001b[0mpublic_url\u001b[0m\u001b[0;34m)\u001b[0m\u001b[0;34m\u001b[0m\u001b[0;34m\u001b[0m\u001b[0m\n\u001b[1;32m      8\u001b[0m \u001b[0mnest_asyncio\u001b[0m\u001b[0;34m.\u001b[0m\u001b[0mapply\u001b[0m\u001b[0;34m(\u001b[0m\u001b[0;34m)\u001b[0m\u001b[0;34m\u001b[0m\u001b[0;34m\u001b[0m\u001b[0m\n",
            "\u001b[0;32m/usr/lib/python3.10/asyncio/futures.py\u001b[0m in \u001b[0;36m__await__\u001b[0;34m(self)\u001b[0m\n\u001b[1;32m    283\u001b[0m         \u001b[0;32mif\u001b[0m \u001b[0;32mnot\u001b[0m \u001b[0mself\u001b[0m\u001b[0;34m.\u001b[0m\u001b[0mdone\u001b[0m\u001b[0;34m(\u001b[0m\u001b[0;34m)\u001b[0m\u001b[0;34m:\u001b[0m\u001b[0;34m\u001b[0m\u001b[0;34m\u001b[0m\u001b[0m\n\u001b[1;32m    284\u001b[0m             \u001b[0mself\u001b[0m\u001b[0;34m.\u001b[0m\u001b[0m_asyncio_future_blocking\u001b[0m \u001b[0;34m=\u001b[0m \u001b[0;32mTrue\u001b[0m\u001b[0;34m\u001b[0m\u001b[0;34m\u001b[0m\u001b[0m\n\u001b[0;32m--> 285\u001b[0;31m             \u001b[0;32myield\u001b[0m \u001b[0mself\u001b[0m  \u001b[0;31m# This tells Task to wait for completion.\u001b[0m\u001b[0;34m\u001b[0m\u001b[0;34m\u001b[0m\u001b[0m\n\u001b[0m\u001b[1;32m    286\u001b[0m         \u001b[0;32mif\u001b[0m \u001b[0;32mnot\u001b[0m \u001b[0mself\u001b[0m\u001b[0;34m.\u001b[0m\u001b[0mdone\u001b[0m\u001b[0;34m(\u001b[0m\u001b[0;34m)\u001b[0m\u001b[0;34m:\u001b[0m\u001b[0;34m\u001b[0m\u001b[0;34m\u001b[0m\u001b[0m\n\u001b[1;32m    287\u001b[0m             \u001b[0;32mraise\u001b[0m \u001b[0mRuntimeError\u001b[0m\u001b[0;34m(\u001b[0m\u001b[0;34m\"await wasn't used with future\"\u001b[0m\u001b[0;34m)\u001b[0m\u001b[0;34m\u001b[0m\u001b[0;34m\u001b[0m\u001b[0m\n",
            "\u001b[0;32m/usr/lib/python3.10/asyncio/tasks.py\u001b[0m in \u001b[0;36m__wakeup\u001b[0;34m(self, future)\u001b[0m\n\u001b[1;32m    302\u001b[0m     \u001b[0;32mdef\u001b[0m \u001b[0m__wakeup\u001b[0m\u001b[0;34m(\u001b[0m\u001b[0mself\u001b[0m\u001b[0;34m,\u001b[0m \u001b[0mfuture\u001b[0m\u001b[0;34m)\u001b[0m\u001b[0;34m:\u001b[0m\u001b[0;34m\u001b[0m\u001b[0;34m\u001b[0m\u001b[0m\n\u001b[1;32m    303\u001b[0m         \u001b[0;32mtry\u001b[0m\u001b[0;34m:\u001b[0m\u001b[0;34m\u001b[0m\u001b[0;34m\u001b[0m\u001b[0m\n\u001b[0;32m--> 304\u001b[0;31m             \u001b[0mfuture\u001b[0m\u001b[0;34m.\u001b[0m\u001b[0mresult\u001b[0m\u001b[0;34m(\u001b[0m\u001b[0;34m)\u001b[0m\u001b[0;34m\u001b[0m\u001b[0;34m\u001b[0m\u001b[0m\n\u001b[0m\u001b[1;32m    305\u001b[0m         \u001b[0;32mexcept\u001b[0m \u001b[0mBaseException\u001b[0m \u001b[0;32mas\u001b[0m \u001b[0mexc\u001b[0m\u001b[0;34m:\u001b[0m\u001b[0;34m\u001b[0m\u001b[0;34m\u001b[0m\u001b[0m\n\u001b[1;32m    306\u001b[0m             \u001b[0;31m# This may also be a cancellation.\u001b[0m\u001b[0;34m\u001b[0m\u001b[0;34m\u001b[0m\u001b[0m\n",
            "\u001b[0;32m/usr/lib/python3.10/asyncio/futures.py\u001b[0m in \u001b[0;36mresult\u001b[0;34m(self)\u001b[0m\n\u001b[1;32m    199\u001b[0m         \u001b[0mself\u001b[0m\u001b[0;34m.\u001b[0m\u001b[0m__log_traceback\u001b[0m \u001b[0;34m=\u001b[0m \u001b[0;32mFalse\u001b[0m\u001b[0;34m\u001b[0m\u001b[0;34m\u001b[0m\u001b[0m\n\u001b[1;32m    200\u001b[0m         \u001b[0;32mif\u001b[0m \u001b[0mself\u001b[0m\u001b[0;34m.\u001b[0m\u001b[0m_exception\u001b[0m \u001b[0;32mis\u001b[0m \u001b[0;32mnot\u001b[0m \u001b[0;32mNone\u001b[0m\u001b[0;34m:\u001b[0m\u001b[0;34m\u001b[0m\u001b[0;34m\u001b[0m\u001b[0m\n\u001b[0;32m--> 201\u001b[0;31m             \u001b[0;32mraise\u001b[0m \u001b[0mself\u001b[0m\u001b[0;34m.\u001b[0m\u001b[0m_exception\u001b[0m\u001b[0;34m.\u001b[0m\u001b[0mwith_traceback\u001b[0m\u001b[0;34m(\u001b[0m\u001b[0mself\u001b[0m\u001b[0;34m.\u001b[0m\u001b[0m_exception_tb\u001b[0m\u001b[0;34m)\u001b[0m\u001b[0;34m\u001b[0m\u001b[0;34m\u001b[0m\u001b[0m\n\u001b[0m\u001b[1;32m    202\u001b[0m         \u001b[0;32mreturn\u001b[0m \u001b[0mself\u001b[0m\u001b[0;34m.\u001b[0m\u001b[0m_result\u001b[0m\u001b[0;34m\u001b[0m\u001b[0;34m\u001b[0m\u001b[0m\n\u001b[1;32m    203\u001b[0m \u001b[0;34m\u001b[0m\u001b[0m\n",
            "\u001b[0;32m/usr/lib/python3.10/asyncio/tasks.py\u001b[0m in \u001b[0;36m__step\u001b[0;34m(***failed resolving arguments***)\u001b[0m\n\u001b[1;32m    232\u001b[0m                 \u001b[0mresult\u001b[0m \u001b[0;34m=\u001b[0m \u001b[0mcoro\u001b[0m\u001b[0;34m.\u001b[0m\u001b[0msend\u001b[0m\u001b[0;34m(\u001b[0m\u001b[0;32mNone\u001b[0m\u001b[0;34m)\u001b[0m\u001b[0;34m\u001b[0m\u001b[0;34m\u001b[0m\u001b[0m\n\u001b[1;32m    233\u001b[0m             \u001b[0;32melse\u001b[0m\u001b[0;34m:\u001b[0m\u001b[0;34m\u001b[0m\u001b[0;34m\u001b[0m\u001b[0m\n\u001b[0;32m--> 234\u001b[0;31m                 \u001b[0mresult\u001b[0m \u001b[0;34m=\u001b[0m \u001b[0mcoro\u001b[0m\u001b[0;34m.\u001b[0m\u001b[0mthrow\u001b[0m\u001b[0;34m(\u001b[0m\u001b[0mexc\u001b[0m\u001b[0;34m)\u001b[0m\u001b[0;34m\u001b[0m\u001b[0;34m\u001b[0m\u001b[0m\n\u001b[0m\u001b[1;32m    235\u001b[0m         \u001b[0;32mexcept\u001b[0m \u001b[0mStopIteration\u001b[0m \u001b[0;32mas\u001b[0m \u001b[0mexc\u001b[0m\u001b[0;34m:\u001b[0m\u001b[0;34m\u001b[0m\u001b[0;34m\u001b[0m\u001b[0m\n\u001b[1;32m    236\u001b[0m             \u001b[0;32mif\u001b[0m \u001b[0mself\u001b[0m\u001b[0;34m.\u001b[0m\u001b[0m_must_cancel\u001b[0m\u001b[0;34m:\u001b[0m\u001b[0;34m\u001b[0m\u001b[0;34m\u001b[0m\u001b[0m\n",
            "\u001b[0;32mngrok_wrapper\u001b[0m in \u001b[0;36mwrap\u001b[0;34m(input)\u001b[0m\n",
            "\u001b[0;32m/usr/lib/python3.10/asyncio/futures.py\u001b[0m in \u001b[0;36m__await__\u001b[0;34m(self)\u001b[0m\n\u001b[1;32m    283\u001b[0m         \u001b[0;32mif\u001b[0m \u001b[0;32mnot\u001b[0m \u001b[0mself\u001b[0m\u001b[0;34m.\u001b[0m\u001b[0mdone\u001b[0m\u001b[0;34m(\u001b[0m\u001b[0;34m)\u001b[0m\u001b[0;34m:\u001b[0m\u001b[0;34m\u001b[0m\u001b[0;34m\u001b[0m\u001b[0m\n\u001b[1;32m    284\u001b[0m             \u001b[0mself\u001b[0m\u001b[0;34m.\u001b[0m\u001b[0m_asyncio_future_blocking\u001b[0m \u001b[0;34m=\u001b[0m \u001b[0;32mTrue\u001b[0m\u001b[0;34m\u001b[0m\u001b[0;34m\u001b[0m\u001b[0m\n\u001b[0;32m--> 285\u001b[0;31m             \u001b[0;32myield\u001b[0m \u001b[0mself\u001b[0m  \u001b[0;31m# This tells Task to wait for completion.\u001b[0m\u001b[0;34m\u001b[0m\u001b[0;34m\u001b[0m\u001b[0m\n\u001b[0m\u001b[1;32m    286\u001b[0m         \u001b[0;32mif\u001b[0m \u001b[0;32mnot\u001b[0m \u001b[0mself\u001b[0m\u001b[0;34m.\u001b[0m\u001b[0mdone\u001b[0m\u001b[0;34m(\u001b[0m\u001b[0;34m)\u001b[0m\u001b[0;34m:\u001b[0m\u001b[0;34m\u001b[0m\u001b[0;34m\u001b[0m\u001b[0m\n\u001b[1;32m    287\u001b[0m             \u001b[0;32mraise\u001b[0m \u001b[0mRuntimeError\u001b[0m\u001b[0;34m(\u001b[0m\u001b[0;34m\"await wasn't used with future\"\u001b[0m\u001b[0;34m)\u001b[0m\u001b[0;34m\u001b[0m\u001b[0;34m\u001b[0m\u001b[0m\n",
            "\u001b[0;32m/usr/lib/python3.10/asyncio/tasks.py\u001b[0m in \u001b[0;36m__wakeup\u001b[0;34m(self, future)\u001b[0m\n\u001b[1;32m    302\u001b[0m     \u001b[0;32mdef\u001b[0m \u001b[0m__wakeup\u001b[0m\u001b[0;34m(\u001b[0m\u001b[0mself\u001b[0m\u001b[0;34m,\u001b[0m \u001b[0mfuture\u001b[0m\u001b[0;34m)\u001b[0m\u001b[0;34m:\u001b[0m\u001b[0;34m\u001b[0m\u001b[0;34m\u001b[0m\u001b[0m\n\u001b[1;32m    303\u001b[0m         \u001b[0;32mtry\u001b[0m\u001b[0;34m:\u001b[0m\u001b[0;34m\u001b[0m\u001b[0;34m\u001b[0m\u001b[0m\n\u001b[0;32m--> 304\u001b[0;31m             \u001b[0mfuture\u001b[0m\u001b[0;34m.\u001b[0m\u001b[0mresult\u001b[0m\u001b[0;34m(\u001b[0m\u001b[0;34m)\u001b[0m\u001b[0;34m\u001b[0m\u001b[0;34m\u001b[0m\u001b[0m\n\u001b[0m\u001b[1;32m    305\u001b[0m         \u001b[0;32mexcept\u001b[0m \u001b[0mBaseException\u001b[0m \u001b[0;32mas\u001b[0m \u001b[0mexc\u001b[0m\u001b[0;34m:\u001b[0m\u001b[0;34m\u001b[0m\u001b[0;34m\u001b[0m\u001b[0m\n\u001b[1;32m    306\u001b[0m             \u001b[0;31m# This may also be a cancellation.\u001b[0m\u001b[0;34m\u001b[0m\u001b[0;34m\u001b[0m\u001b[0m\n",
            "\u001b[0;32m/usr/lib/python3.10/asyncio/futures.py\u001b[0m in \u001b[0;36mresult\u001b[0;34m(self)\u001b[0m\n\u001b[1;32m    199\u001b[0m         \u001b[0mself\u001b[0m\u001b[0;34m.\u001b[0m\u001b[0m__log_traceback\u001b[0m \u001b[0;34m=\u001b[0m \u001b[0;32mFalse\u001b[0m\u001b[0;34m\u001b[0m\u001b[0;34m\u001b[0m\u001b[0m\n\u001b[1;32m    200\u001b[0m         \u001b[0;32mif\u001b[0m \u001b[0mself\u001b[0m\u001b[0;34m.\u001b[0m\u001b[0m_exception\u001b[0m \u001b[0;32mis\u001b[0m \u001b[0;32mnot\u001b[0m \u001b[0;32mNone\u001b[0m\u001b[0;34m:\u001b[0m\u001b[0;34m\u001b[0m\u001b[0;34m\u001b[0m\u001b[0m\n\u001b[0;32m--> 201\u001b[0;31m             \u001b[0;32mraise\u001b[0m \u001b[0mself\u001b[0m\u001b[0;34m.\u001b[0m\u001b[0m_exception\u001b[0m\u001b[0;34m.\u001b[0m\u001b[0mwith_traceback\u001b[0m\u001b[0;34m(\u001b[0m\u001b[0mself\u001b[0m\u001b[0;34m.\u001b[0m\u001b[0m_exception_tb\u001b[0m\u001b[0;34m)\u001b[0m\u001b[0;34m\u001b[0m\u001b[0;34m\u001b[0m\u001b[0m\n\u001b[0m\u001b[1;32m    202\u001b[0m         \u001b[0;32mreturn\u001b[0m \u001b[0mself\u001b[0m\u001b[0;34m.\u001b[0m\u001b[0m_result\u001b[0m\u001b[0;34m\u001b[0m\u001b[0;34m\u001b[0m\u001b[0m\n\u001b[1;32m    203\u001b[0m \u001b[0;34m\u001b[0m\u001b[0m\n",
            "\u001b[0;31mValueError\u001b[0m: ('failed to connect session', \"Your account is limited to 1 simultaneous ngrok agent session.\\nYou can run multiple tunnels on a single agent session using a configuration file.\\nTo learn more, see https://ngrok.com/docs/secure-tunnels/ngrok-agent/reference/config/\\nActive ngrok agent sessions in region 'us':\\n  - ts_2Yy8m8CmE8MpWtQOmfSnyOdbBWB (35.237.152.214)\", 'ERR_NGROK_108')"
          ]
        }
      ]
    }
  ]
}